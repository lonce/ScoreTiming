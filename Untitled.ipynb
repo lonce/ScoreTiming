{
 "cells": [
  {
   "cell_type": "code",
   "execution_count": 1,
   "id": "e5b1d884-da91-4612-a54c-70c0d8fc25c3",
   "metadata": {},
   "outputs": [],
   "source": [
    "import pandas as pd\n",
    "import numpy as np\n",
    "import os\n",
    "import matplotlib.pyplot as plt\n",
    "from music21.midi import MidiFile, MetaEvents, getNumber, ChannelVoiceMessages\n",
    "from music21.midi.translate import getTimeForEvents\n",
    "from collections import namedtuple\n",
    "import itertools"
   ]
  },
  {
   "cell_type": "code",
   "execution_count": 31,
   "id": "073c2346-681b-4930-8c51-904e5c60a676",
   "metadata": {},
   "outputs": [],
   "source": [
    "midi_file=\"scratch2/Test3.mid\"\n",
    "fps=86.1328125\n",
    "\n",
    "jsonbeatinfo_file=\"scratch2/Test3.beatinfo2.jsn\"\n",
    "\n",
    "xmlfile=\"scores/Test3/Test3a.musicxml\""
   ]
  },
  {
   "cell_type": "code",
   "execution_count": 32,
   "id": "a1d772fe-d0d6-40f9-b02b-e6d04fedf76d",
   "metadata": {},
   "outputs": [],
   "source": [
    "mf = MidiFile()\n",
    "mf.open(midi_file)\n",
    "mf.read()\n",
    "tracks = range(len(mf.tracks))"
   ]
  },
  {
   "cell_type": "code",
   "execution_count": 33,
   "id": "f55d4a53-89c3-4eba-9631-63bcf4ae2eff",
   "metadata": {},
   "outputs": [
    {
     "data": {
      "text/plain": [
       "1"
      ]
     },
     "execution_count": 33,
     "metadata": {},
     "output_type": "execute_result"
    }
   ],
   "source": [
    "len(mf.tracks)"
   ]
  },
  {
   "cell_type": "code",
   "execution_count": 34,
   "id": "978686d8-99b4-4453-9717-e534fa3fef92",
   "metadata": {},
   "outputs": [],
   "source": [
    "import partitura as pt\n",
    "from partitura.utils import ensure_notearray"
   ]
  },
  {
   "cell_type": "code",
   "execution_count": 35,
   "id": "ffaff055-3b70-4746-bd89-aa476e00be19",
   "metadata": {},
   "outputs": [],
   "source": [
    "# Note array from a score\n",
    "\n",
    "# Path to the MusicXML file\n",
    "score_fn =  xmlfile\n",
    "\n",
    "# Load the score into a `Part` object\n",
    "score_part = pt.load_musicxml(score_fn)\n",
    "\n",
    "# Get note array.\n",
    "score_note_array = score_part.note_array()"
   ]
  },
  {
   "cell_type": "code",
   "execution_count": 36,
   "id": "065478f7-048c-494f-9b85-68efa964c378",
   "metadata": {},
   "outputs": [
    {
     "name": "stdout",
     "output_type": "stream",
     "text": [
      "[(-3., 1., -1.5, 0.5, 0, 1, 69, 1, 'n1', 2)\n",
      " (-2., 1., -1. , 0.5, 1, 1, 72, 1, 'n2', 2)\n",
      " (-1., 1., -0.5, 0.5, 2, 1, 76, 1, 'n3', 2)\n",
      " ( 0., 1.,  0. , 0.5, 3, 1, 69, 1, 'n4', 2)\n",
      " ( 1., 1.,  0.5, 0.5, 4, 1, 71, 1, 'n5', 2)\n",
      " ( 2., 1.,  1. , 0.5, 5, 1, 69, 1, 'n6', 2)\n",
      " ( 3., 1.,  1.5, 0.5, 6, 1, 72, 1, 'n7', 2)\n",
      " ( 4., 1.,  2. , 0.5, 7, 1, 74, 1, 'n8', 2)\n",
      " ( 5., 1.,  2.5, 0.5, 8, 1, 72, 1, 'n9', 2)\n",
      " ( 6., 1.,  3. , 0.5, 9, 1, 76, 1, 'n10', 2)]\n"
     ]
    }
   ],
   "source": [
    "print(score_note_array[:10])"
   ]
  },
  {
   "cell_type": "code",
   "execution_count": 38,
   "id": "5f9f70ff-9da9-4ff3-8d8b-c90b71e12406",
   "metadata": {},
   "outputs": [
    {
     "ename": "ValueError",
     "evalue": "no field of name onset_sec",
     "output_type": "error",
     "traceback": [
      "\u001b[0;31m---------------------------------------------------------------------------\u001b[0m",
      "\u001b[0;31mValueError\u001b[0m                                Traceback (most recent call last)",
      "Cell \u001b[0;32mIn[38], line 2\u001b[0m\n\u001b[1;32m      1\u001b[0m \u001b[38;5;66;03m# Note array to `PerformedPart`\u001b[39;00m\n\u001b[0;32m----> 2\u001b[0m performed_part \u001b[38;5;241m=\u001b[39m \u001b[43mpt\u001b[49m\u001b[38;5;241;43m.\u001b[39;49m\u001b[43mperformance\u001b[49m\u001b[38;5;241;43m.\u001b[39;49m\u001b[43mPerformedPart\u001b[49m\u001b[38;5;241;43m.\u001b[39;49m\u001b[43mfrom_note_array\u001b[49m\u001b[43m(\u001b[49m\u001b[43mscore_note_array\u001b[49m\u001b[43m)\u001b[49m\n",
      "File \u001b[0;32m~/miniconda3/lib/python3.9/site-packages/partitura/performance.py:238\u001b[0m, in \u001b[0;36mPerformedPart.from_note_array\u001b[0;34m(cls, note_array, id, part_name)\u001b[0m\n\u001b[1;32m    232\u001b[0m notes \u001b[38;5;241m=\u001b[39m []\n\u001b[1;32m    233\u001b[0m \u001b[38;5;28;01mfor\u001b[39;00m nid, note, track, channel \u001b[38;5;129;01min\u001b[39;00m \u001b[38;5;28mzip\u001b[39m(n_ids, note_array, tracks, channels):\n\u001b[1;32m    234\u001b[0m     notes\u001b[38;5;241m.\u001b[39mappend(\n\u001b[1;32m    235\u001b[0m         \u001b[38;5;28mdict\u001b[39m(\n\u001b[1;32m    236\u001b[0m             \u001b[38;5;28mid\u001b[39m\u001b[38;5;241m=\u001b[39mnid,\n\u001b[1;32m    237\u001b[0m             midi_pitch\u001b[38;5;241m=\u001b[39mnote[\u001b[38;5;124m\"\u001b[39m\u001b[38;5;124mpitch\u001b[39m\u001b[38;5;124m\"\u001b[39m],\n\u001b[0;32m--> 238\u001b[0m             note_on\u001b[38;5;241m=\u001b[39m\u001b[43mnote\u001b[49m\u001b[43m[\u001b[49m\u001b[38;5;124;43m\"\u001b[39;49m\u001b[38;5;124;43monset_sec\u001b[39;49m\u001b[38;5;124;43m\"\u001b[39;49m\u001b[43m]\u001b[49m,\n\u001b[1;32m    239\u001b[0m             note_off\u001b[38;5;241m=\u001b[39mnote[\u001b[38;5;124m\"\u001b[39m\u001b[38;5;124monset_sec\u001b[39m\u001b[38;5;124m\"\u001b[39m] \u001b[38;5;241m+\u001b[39m note[\u001b[38;5;124m\"\u001b[39m\u001b[38;5;124mduration_sec\u001b[39m\u001b[38;5;124m\"\u001b[39m],\n\u001b[1;32m    240\u001b[0m             sound_off\u001b[38;5;241m=\u001b[39mnote[\u001b[38;5;124m\"\u001b[39m\u001b[38;5;124monset_sec\u001b[39m\u001b[38;5;124m\"\u001b[39m] \u001b[38;5;241m+\u001b[39m note[\u001b[38;5;124m\"\u001b[39m\u001b[38;5;124mduration_sec\u001b[39m\u001b[38;5;124m\"\u001b[39m],\n\u001b[1;32m    241\u001b[0m             track\u001b[38;5;241m=\u001b[39mtrack,\n\u001b[1;32m    242\u001b[0m             channel\u001b[38;5;241m=\u001b[39mchannel,\n\u001b[1;32m    243\u001b[0m             velocity\u001b[38;5;241m=\u001b[39mnote[\u001b[38;5;124m\"\u001b[39m\u001b[38;5;124mvelocity\u001b[39m\u001b[38;5;124m\"\u001b[39m],\n\u001b[1;32m    244\u001b[0m         )\n\u001b[1;32m    245\u001b[0m     )\n\u001b[1;32m    247\u001b[0m \u001b[38;5;28;01mreturn\u001b[39;00m \u001b[38;5;28mcls\u001b[39m(\u001b[38;5;28mid\u001b[39m\u001b[38;5;241m=\u001b[39m\u001b[38;5;28mid\u001b[39m, part_name\u001b[38;5;241m=\u001b[39mpart_name, notes\u001b[38;5;241m=\u001b[39mnotes, controls\u001b[38;5;241m=\u001b[39m\u001b[38;5;28;01mNone\u001b[39;00m)\n",
      "\u001b[0;31mValueError\u001b[0m: no field of name onset_sec"
     ]
    }
   ],
   "source": [
    "# Note array to `PerformedPart`\n",
    "performed_part = pt.performance.PerformedPart.from_note_array(score_note_array)"
   ]
  },
  {
   "cell_type": "code",
   "execution_count": 12,
   "id": "97480c87-de90-4c56-8c02-64706363fc29",
   "metadata": {},
   "outputs": [
    {
     "ename": "MuseScoreNotFoundException",
     "evalue": "",
     "output_type": "error",
     "traceback": [
      "\u001b[0;31m---------------------------------------------------------------------------\u001b[0m",
      "\u001b[0;31mMuseScoreNotFoundException\u001b[0m                Traceback (most recent call last)",
      "Cell \u001b[0;32mIn[12], line 2\u001b[0m\n\u001b[1;32m      1\u001b[0m \u001b[38;5;66;03m# Load a MusicXML file\u001b[39;00m\n\u001b[0;32m----> 2\u001b[0m score \u001b[38;5;241m=\u001b[39m \u001b[43mpartitura\u001b[49m\u001b[38;5;241;43m.\u001b[39;49m\u001b[43mload_score\u001b[49m\u001b[43m(\u001b[49m\u001b[43mxmlfile\u001b[49m\u001b[43m)\u001b[49m\n\u001b[1;32m      4\u001b[0m \u001b[38;5;66;03m# Extract note information with clock time and musical time\u001b[39;00m\n\u001b[1;32m      5\u001b[0m notes \u001b[38;5;241m=\u001b[39m ensure_notearray(score)\n",
      "File \u001b[0;32m~/miniconda3/lib/python3.9/site-packages/partitura/utils/misc.py:68\u001b[0m, in \u001b[0;36mdeprecated_alias.<locals>.deco.<locals>.wrapper\u001b[0;34m(*args, **kwargs)\u001b[0m\n\u001b[1;32m     65\u001b[0m \u001b[38;5;129m@functools\u001b[39m\u001b[38;5;241m.\u001b[39mwraps(f)\n\u001b[1;32m     66\u001b[0m \u001b[38;5;28;01mdef\u001b[39;00m \u001b[38;5;21mwrapper\u001b[39m(\u001b[38;5;241m*\u001b[39margs, \u001b[38;5;241m*\u001b[39m\u001b[38;5;241m*\u001b[39mkwargs):\n\u001b[1;32m     67\u001b[0m     rename_kwargs(f\u001b[38;5;241m.\u001b[39m\u001b[38;5;18m__name__\u001b[39m, kwargs, aliases)\n\u001b[0;32m---> 68\u001b[0m     \u001b[38;5;28;01mreturn\u001b[39;00m \u001b[43mf\u001b[49m\u001b[43m(\u001b[49m\u001b[38;5;241;43m*\u001b[39;49m\u001b[43margs\u001b[49m\u001b[43m,\u001b[49m\u001b[43m \u001b[49m\u001b[38;5;241;43m*\u001b[39;49m\u001b[38;5;241;43m*\u001b[39;49m\u001b[43mkwargs\u001b[49m\u001b[43m)\u001b[49m\n",
      "File \u001b[0;32m~/miniconda3/lib/python3.9/site-packages/partitura/utils/misc.py:90\u001b[0m, in \u001b[0;36mdeprecated_parameter.<locals>.deco.<locals>.wrapper\u001b[0;34m(*args, **kwargs)\u001b[0m\n\u001b[1;32m     87\u001b[0m \u001b[38;5;129m@functools\u001b[39m\u001b[38;5;241m.\u001b[39mwraps(f)\n\u001b[1;32m     88\u001b[0m \u001b[38;5;28;01mdef\u001b[39;00m \u001b[38;5;21mwrapper\u001b[39m(\u001b[38;5;241m*\u001b[39margs, \u001b[38;5;241m*\u001b[39m\u001b[38;5;241m*\u001b[39mkwargs):\n\u001b[1;32m     89\u001b[0m     to_be_deprecated(f\u001b[38;5;241m.\u001b[39m\u001b[38;5;18m__name__\u001b[39m, kwargs, deprecated_kwargs)\n\u001b[0;32m---> 90\u001b[0m     \u001b[38;5;28;01mreturn\u001b[39;00m \u001b[43mf\u001b[49m\u001b[43m(\u001b[49m\u001b[38;5;241;43m*\u001b[39;49m\u001b[43margs\u001b[49m\u001b[43m,\u001b[49m\u001b[43m \u001b[49m\u001b[38;5;241;43m*\u001b[39;49m\u001b[38;5;241;43m*\u001b[39;49m\u001b[43mkwargs\u001b[49m\u001b[43m)\u001b[49m\n",
      "File \u001b[0;32m~/miniconda3/lib/python3.9/site-packages/partitura/io/__init__.py:110\u001b[0m, in \u001b[0;36mload_score\u001b[0;34m(filename, force_note_ids)\u001b[0m\n\u001b[1;32m     82\u001b[0m     \u001b[38;5;28;01mreturn\u001b[39;00m load_kern(\n\u001b[1;32m     83\u001b[0m         filename\u001b[38;5;241m=\u001b[39mfilename,\n\u001b[1;32m     84\u001b[0m         force_note_ids\u001b[38;5;241m=\u001b[39mforce_note_ids,\n\u001b[1;32m     85\u001b[0m     )\n\u001b[1;32m     86\u001b[0m \u001b[38;5;28;01melif\u001b[39;00m extension \u001b[38;5;129;01min\u001b[39;00m [\n\u001b[1;32m     87\u001b[0m     \u001b[38;5;124m\"\u001b[39m\u001b[38;5;124m.mscz\u001b[39m\u001b[38;5;124m\"\u001b[39m,\n\u001b[1;32m     88\u001b[0m     \u001b[38;5;124m\"\u001b[39m\u001b[38;5;124m.mscx\u001b[39m\u001b[38;5;124m\"\u001b[39m,\n\u001b[0;32m   (...)\u001b[0m\n\u001b[1;32m    108\u001b[0m ]:\n\u001b[1;32m    109\u001b[0m     \u001b[38;5;66;03m# Load MuseScore\u001b[39;00m\n\u001b[0;32m--> 110\u001b[0m     \u001b[38;5;28;01mreturn\u001b[39;00m \u001b[43mload_via_musescore\u001b[49m\u001b[43m(\u001b[49m\n\u001b[1;32m    111\u001b[0m \u001b[43m        \u001b[49m\u001b[43mfilename\u001b[49m\u001b[38;5;241;43m=\u001b[39;49m\u001b[43mfilename\u001b[49m\u001b[43m,\u001b[49m\n\u001b[1;32m    112\u001b[0m \u001b[43m        \u001b[49m\u001b[43mforce_note_ids\u001b[49m\u001b[38;5;241;43m=\u001b[39;49m\u001b[43mforce_note_ids\u001b[49m\u001b[43m,\u001b[49m\n\u001b[1;32m    113\u001b[0m \u001b[43m    \u001b[49m\u001b[43m)\u001b[49m\n\u001b[1;32m    114\u001b[0m \u001b[38;5;28;01melif\u001b[39;00m extension \u001b[38;5;129;01min\u001b[39;00m [\u001b[38;5;124m\"\u001b[39m\u001b[38;5;124m.match\u001b[39m\u001b[38;5;124m\"\u001b[39m]:\n\u001b[1;32m    115\u001b[0m     \u001b[38;5;66;03m# Load the score information from a Matchfile\u001b[39;00m\n\u001b[1;32m    116\u001b[0m     _, _, score \u001b[38;5;241m=\u001b[39m load_match(\n\u001b[1;32m    117\u001b[0m         filename\u001b[38;5;241m=\u001b[39mfilename,\n\u001b[1;32m    118\u001b[0m         create_score\u001b[38;5;241m=\u001b[39m\u001b[38;5;28;01mTrue\u001b[39;00m,\n\u001b[1;32m    119\u001b[0m     )\n",
      "File \u001b[0;32m~/miniconda3/lib/python3.9/site-packages/partitura/utils/misc.py:68\u001b[0m, in \u001b[0;36mdeprecated_alias.<locals>.deco.<locals>.wrapper\u001b[0;34m(*args, **kwargs)\u001b[0m\n\u001b[1;32m     65\u001b[0m \u001b[38;5;129m@functools\u001b[39m\u001b[38;5;241m.\u001b[39mwraps(f)\n\u001b[1;32m     66\u001b[0m \u001b[38;5;28;01mdef\u001b[39;00m \u001b[38;5;21mwrapper\u001b[39m(\u001b[38;5;241m*\u001b[39margs, \u001b[38;5;241m*\u001b[39m\u001b[38;5;241m*\u001b[39mkwargs):\n\u001b[1;32m     67\u001b[0m     rename_kwargs(f\u001b[38;5;241m.\u001b[39m\u001b[38;5;18m__name__\u001b[39m, kwargs, aliases)\n\u001b[0;32m---> 68\u001b[0m     \u001b[38;5;28;01mreturn\u001b[39;00m \u001b[43mf\u001b[49m\u001b[43m(\u001b[49m\u001b[38;5;241;43m*\u001b[39;49m\u001b[43margs\u001b[49m\u001b[43m,\u001b[49m\u001b[43m \u001b[49m\u001b[38;5;241;43m*\u001b[39;49m\u001b[38;5;241;43m*\u001b[39;49m\u001b[43mkwargs\u001b[49m\u001b[43m)\u001b[49m\n",
      "File \u001b[0;32m~/miniconda3/lib/python3.9/site-packages/partitura/utils/misc.py:90\u001b[0m, in \u001b[0;36mdeprecated_parameter.<locals>.deco.<locals>.wrapper\u001b[0;34m(*args, **kwargs)\u001b[0m\n\u001b[1;32m     87\u001b[0m \u001b[38;5;129m@functools\u001b[39m\u001b[38;5;241m.\u001b[39mwraps(f)\n\u001b[1;32m     88\u001b[0m \u001b[38;5;28;01mdef\u001b[39;00m \u001b[38;5;21mwrapper\u001b[39m(\u001b[38;5;241m*\u001b[39margs, \u001b[38;5;241m*\u001b[39m\u001b[38;5;241m*\u001b[39mkwargs):\n\u001b[1;32m     89\u001b[0m     to_be_deprecated(f\u001b[38;5;241m.\u001b[39m\u001b[38;5;18m__name__\u001b[39m, kwargs, deprecated_kwargs)\n\u001b[0;32m---> 90\u001b[0m     \u001b[38;5;28;01mreturn\u001b[39;00m \u001b[43mf\u001b[49m\u001b[43m(\u001b[49m\u001b[38;5;241;43m*\u001b[39;49m\u001b[43margs\u001b[49m\u001b[43m,\u001b[49m\u001b[43m \u001b[49m\u001b[38;5;241;43m*\u001b[39;49m\u001b[38;5;241;43m*\u001b[39;49m\u001b[43mkwargs\u001b[49m\u001b[43m)\u001b[49m\n",
      "File \u001b[0;32m~/miniconda3/lib/python3.9/site-packages/partitura/io/musescore.py:149\u001b[0m, in \u001b[0;36mload_via_musescore\u001b[0;34m(filename, validate, force_note_ids)\u001b[0m\n\u001b[1;32m    144\u001b[0m         \u001b[38;5;28;01mif\u001b[39;00m f\u001b[38;5;241m.\u001b[39mread(\u001b[38;5;241m1\u001b[39m) \u001b[38;5;241m!=\u001b[39m \u001b[38;5;124m\"\u001b[39m\u001b[38;5;124m<\u001b[39m\u001b[38;5;124m\"\u001b[39m:\n\u001b[1;32m    145\u001b[0m             \u001b[38;5;28;01mraise\u001b[39;00m FileImportException(\n\u001b[1;32m    146\u001b[0m                 \u001b[38;5;124m\"\u001b[39m\u001b[38;5;124mFile \u001b[39m\u001b[38;5;132;01m{}\u001b[39;00m\u001b[38;5;124m is not a valid XML file.\u001b[39m\u001b[38;5;124m\"\u001b[39m\u001b[38;5;241m.\u001b[39mformat(filename)\n\u001b[1;32m    147\u001b[0m             )\n\u001b[0;32m--> 149\u001b[0m mscore_exec \u001b[38;5;241m=\u001b[39m \u001b[43mfind_musescore\u001b[49m\u001b[43m(\u001b[49m\u001b[43m)\u001b[49m\n\u001b[1;32m    151\u001b[0m xml_fh \u001b[38;5;241m=\u001b[39m os\u001b[38;5;241m.\u001b[39mpath\u001b[38;5;241m.\u001b[39msplitext(os\u001b[38;5;241m.\u001b[39mpath\u001b[38;5;241m.\u001b[39mbasename(filename))[\u001b[38;5;241m0\u001b[39m] \u001b[38;5;241m+\u001b[39m \u001b[38;5;124m\"\u001b[39m\u001b[38;5;124m.musicxml\u001b[39m\u001b[38;5;124m\"\u001b[39m\n\u001b[1;32m    153\u001b[0m cmd \u001b[38;5;241m=\u001b[39m [mscore_exec, \u001b[38;5;124m\"\u001b[39m\u001b[38;5;124m-o\u001b[39m\u001b[38;5;124m\"\u001b[39m, xml_fh, filename, \u001b[38;5;124m\"\u001b[39m\u001b[38;5;124m-f\u001b[39m\u001b[38;5;124m\"\u001b[39m]\n",
      "File \u001b[0;32m~/miniconda3/lib/python3.9/site-packages/partitura/io/musescore.py:93\u001b[0m, in \u001b[0;36mfind_musescore\u001b[0;34m()\u001b[0m\n\u001b[1;32m     89\u001b[0m             warnings\u001b[38;5;241m.\u001b[39mwarn(\n\u001b[1;32m     90\u001b[0m                 \u001b[38;5;124m\"\u001b[39m\u001b[38;5;124mA unspecified version of MuseScore was found. Consider upgrading to musescore 4.\u001b[39m\u001b[38;5;124m\"\u001b[39m\n\u001b[1;32m     91\u001b[0m             )\n\u001b[1;32m     92\u001b[0m         \u001b[38;5;28;01melse\u001b[39;00m:\n\u001b[0;32m---> 93\u001b[0m             \u001b[38;5;28;01mraise\u001b[39;00m MuseScoreNotFoundException()\n\u001b[1;32m     94\u001b[0m \u001b[38;5;66;03m# check if a screen is available (only on Linux)\u001b[39;00m\n\u001b[1;32m     95\u001b[0m \u001b[38;5;28;01mif\u001b[39;00m \u001b[38;5;124m\"\u001b[39m\u001b[38;5;124mDISPLAY\u001b[39m\u001b[38;5;124m\"\u001b[39m \u001b[38;5;129;01mnot\u001b[39;00m \u001b[38;5;129;01min\u001b[39;00m os\u001b[38;5;241m.\u001b[39menviron \u001b[38;5;129;01mand\u001b[39;00m platform\u001b[38;5;241m.\u001b[39msystem() \u001b[38;5;241m==\u001b[39m \u001b[38;5;124m\"\u001b[39m\u001b[38;5;124mLinux\u001b[39m\u001b[38;5;124m\"\u001b[39m:\n",
      "\u001b[0;31mMuseScoreNotFoundException\u001b[0m: "
     ]
    }
   ],
   "source": [
    "\n",
    "# Load a MusicXML file\n",
    "score = partitura.load_score(xmlfile)\n",
    "\n",
    "# Extract note information with clock time and musical time\n",
    "notes = ensure_notearray(score)\n",
    "\n",
    "print(performance_note_array.dtype.names)\n",
    "print(notes.dtype.names)\n",
    "\n",
    "# for note in notes:\n",
    "#     print(f'NOTE: {note}')\n",
    "#     # clock_time = note['onset_sec']\n",
    "#     # measure = note['measure']\n",
    "#     # beat = note['onset_beat']\n",
    "#     # print(f'Clock Time: {clock_time}, Measure: {measure}, Beat: {beat}')"
   ]
  },
  {
   "cell_type": "code",
   "execution_count": 14,
   "id": "969f7303-e411-41ec-bfbe-f8fa34c0ea55",
   "metadata": {},
   "outputs": [
    {
     "name": "stdout",
     "output_type": "stream",
     "text": [
      "Clock Time: nan, Measure: 0, Beat: 2.0\n",
      "Clock Time: nan, Measure: 0, Beat: 7/3\n",
      "Clock Time: nan, Measure: 0, Beat: 8/3\n",
      "Clock Time: nan, Measure: 1, Beat: 1.0\n",
      "Clock Time: nan, Measure: 1, Beat: 4/3\n",
      "Clock Time: nan, Measure: 1, Beat: 5/3\n",
      "Clock Time: nan, Measure: 1, Beat: 2.0\n",
      "Clock Time: nan, Measure: 1, Beat: 7/3\n",
      "Clock Time: nan, Measure: 1, Beat: 8/3\n",
      "Clock Time: 0.75, Measure: 2, Beat: 1.0\n",
      "Clock Time: 0.75, Measure: 2, Beat: 4/3\n",
      "Clock Time: 0.75, Measure: 2, Beat: 5/3\n",
      "Clock Time: 0.75, Measure: 2, Beat: 2.0\n",
      "Clock Time: 0.75, Measure: 2, Beat: 7/3\n",
      "Clock Time: 0.75, Measure: 2, Beat: 8/3\n",
      "Clock Time: 0.75, Measure: 3, Beat: 1.0\n",
      "Clock Time: 0.75, Measure: 3, Beat: 4/3\n",
      "Clock Time: 0.75, Measure: 3, Beat: 5/3\n",
      "Clock Time: 0.75, Measure: 3, Beat: 2.0\n",
      "Clock Time: 0.75, Measure: 3, Beat: 7/3\n",
      "Clock Time: 0.75, Measure: 3, Beat: 8/3\n",
      "Clock Time: 0.75, Measure: 10, Beat: 1.0\n",
      "Clock Time: 0.75, Measure: 10, Beat: 4/3\n",
      "Clock Time: 0.75, Measure: 10, Beat: 5/3\n",
      "Clock Time: 0.75, Measure: 10, Beat: 2.0\n",
      "Clock Time: 0.75, Measure: 10, Beat: 7/3\n",
      "Clock Time: 0.75, Measure: 10, Beat: 8/3\n",
      "Clock Time: 0.75, Measure: 11, Beat: 1.0\n",
      "Clock Time: 0.75, Measure: 11, Beat: 1.5\n",
      "Clock Time: 0.75, Measure: 11, Beat: 2.0\n",
      "Clock Time: 0.75, Measure: 11, Beat: 2.5\n",
      "Clock Time: 0.75, Measure: 12, Beat: 1.0\n",
      "Clock Time: 0.75, Measure: 12, Beat: 4/3\n",
      "Clock Time: 0.75, Measure: 12, Beat: 5/3\n",
      "Clock Time: 0.75, Measure: 12, Beat: 2.0\n",
      "Clock Time: 0.75, Measure: 12, Beat: 7/3\n",
      "Clock Time: 0.75, Measure: 12, Beat: 8/3\n"
     ]
    }
   ],
   "source": [
    "from music21 import converter, tempo\n",
    "\n",
    "# Load a MusicXML file\n",
    "score = converter.parse(xmlfile)\n",
    "\n",
    "# Unroll repeats to make the score linear\n",
    "score.expandRepeats()\n",
    "\n",
    "# Apply a tempo map to understand clock time\n",
    "for element in score.flat.notesAndRests:\n",
    "    clock_time = element.seconds\n",
    "    measure = element.measureNumber\n",
    "    beat = element.beat\n",
    "    print(f'Clock Time: {clock_time}, Measure: {measure}, Beat: {beat}')"
   ]
  },
  {
   "cell_type": "code",
   "execution_count": 5,
   "id": "f63b9595-74b9-45d2-a6e0-6a0d899e425d",
   "metadata": {},
   "outputs": [],
   "source": [
    "#CLAUDE music21\n",
    "\n",
    "from music21 import *\n",
    "import argparse\n",
    "import fractions\n",
    "\n",
    "def get_tempo(score):\n",
    "    for element in score.flatten():\n",
    "        if isinstance(element, tempo.MetronomeMark):\n",
    "            return element.number\n",
    "    return 120  # Default tempo if none specified\n",
    "\n",
    "def format_beat(beat):\n",
    "    if isinstance(beat, fractions.Fraction):\n",
    "        return f\"{float(beat):.2f}\"\n",
    "    elif isinstance(beat, float):\n",
    "        return f\"{beat:.2f}\"\n",
    "    return str(beat)\n",
    "\n",
    "def process_score(musicxml_file):\n",
    "    # Load the MusicXML file\n",
    "    score = converter.parse(musicxml_file)\n",
    "\n",
    "    # Print header\n",
    "    print(\"Clock Time (s)\\tMeasure\\tBeat\\tPart\\tNote\")\n",
    "\n",
    "    # Get initial tempo\n",
    "    current_tempo = get_tempo(score)\n",
    "\n",
    "    # Iterate through all parts\n",
    "    for part in score.parts:\n",
    "        part_name = part.partName if part.partName else \"Unnamed Part\"\n",
    "        \n",
    "        # Initialize cumulative time\n",
    "        cumulative_seconds = 0\n",
    "        last_offset = 0\n",
    "        \n",
    "        # Iterate through all notes and rests in the part\n",
    "        for element in part.flatten().notesAndRests:\n",
    "            # Check for tempo changes\n",
    "            tempo_change = element.getContextByClass('MetronomeMark')\n",
    "            if tempo_change:\n",
    "                current_tempo = tempo_change.number\n",
    "\n",
    "            # Calculate onset time in seconds\n",
    "            delta_quarter_notes = element.offset - last_offset\n",
    "            cumulative_seconds += delta_quarter_notes * 60 / current_tempo\n",
    "            last_offset = element.offset\n",
    "\n",
    "            # Get measure number\n",
    "            measure = element.measureNumber\n",
    "\n",
    "            # Get beat number\n",
    "            beat = format_beat(element.beat)\n",
    "\n",
    "            # Get note information\n",
    "            if isinstance(element, note.Note):\n",
    "                note_info = f\"{element.pitch.midi}\"\n",
    "            elif isinstance(element, chord.Chord):\n",
    "                note_info = f\"Chord:{[p.midi for p in element.pitches]}\"\n",
    "            else:\n",
    "                note_info = \"Rest\"\n",
    "\n",
    "            # Print debug information\n",
    "            print(f\"Debug: type(beat) = {type(element.beat)}, beat = {element.beat}\")\n",
    "\n",
    "            # Print the information\n",
    "            print(f\"{cumulative_seconds:.3f}\\t{measure}\\t{beat}\\t{part_name}\\t{note_info}\")\n"
   ]
  },
  {
   "cell_type": "code",
   "execution_count": 7,
   "id": "8c465b66-2158-4a93-bdde-d81f709c46f9",
   "metadata": {},
   "outputs": [
    {
     "name": "stdout",
     "output_type": "stream",
     "text": [
      "Clock Time (s)\tMeasure\tBeat\tPart\tNote\n",
      "Debug: type(beat) = <class 'float'>, beat = 2.0\n",
      "0.000\t0\t2.00\tPiano\t69\n",
      "Debug: type(beat) = <class 'fractions.Fraction'>, beat = 7/3\n",
      "0.375\t0\t2.33\tPiano\t72\n",
      "Debug: type(beat) = <class 'fractions.Fraction'>, beat = 8/3\n",
      "0.750\t0\t2.67\tPiano\t76\n",
      "Debug: type(beat) = <class 'float'>, beat = 1.0\n",
      "1.125\t1\t1.00\tPiano\t69\n",
      "Debug: type(beat) = <class 'fractions.Fraction'>, beat = 4/3\n",
      "1.500\t1\t1.33\tPiano\t71\n",
      "Debug: type(beat) = <class 'fractions.Fraction'>, beat = 5/3\n",
      "1.875\t1\t1.67\tPiano\t69\n",
      "Debug: type(beat) = <class 'float'>, beat = 2.0\n",
      "2.250\t1\t2.00\tPiano\t72\n",
      "Debug: type(beat) = <class 'fractions.Fraction'>, beat = 7/3\n",
      "2.625\t1\t2.33\tPiano\t74\n",
      "Debug: type(beat) = <class 'fractions.Fraction'>, beat = 8/3\n",
      "3.000\t1\t2.67\tPiano\t72\n",
      "Debug: type(beat) = <class 'float'>, beat = 1.0\n",
      "3.375\t2\t1.00\tPiano\t76\n",
      "Debug: type(beat) = <class 'fractions.Fraction'>, beat = 4/3\n",
      "3.750\t2\t1.33\tPiano\t74\n",
      "Debug: type(beat) = <class 'fractions.Fraction'>, beat = 5/3\n",
      "4.125\t2\t1.67\tPiano\t72\n",
      "Debug: type(beat) = <class 'float'>, beat = 2.0\n",
      "4.500\t2\t2.00\tPiano\t71\n",
      "Debug: type(beat) = <class 'fractions.Fraction'>, beat = 7/3\n",
      "4.875\t2\t2.33\tPiano\t71\n",
      "Debug: type(beat) = <class 'fractions.Fraction'>, beat = 8/3\n",
      "5.250\t2\t2.67\tPiano\t72\n",
      "Debug: type(beat) = <class 'float'>, beat = 1.0\n",
      "5.625\t3\t1.00\tPiano\t72\n",
      "Debug: type(beat) = <class 'fractions.Fraction'>, beat = 4/3\n",
      "6.000\t3\t1.33\tPiano\t72\n",
      "Debug: type(beat) = <class 'fractions.Fraction'>, beat = 5/3\n",
      "6.375\t3\t1.67\tPiano\t71\n",
      "Debug: type(beat) = <class 'float'>, beat = 2.0\n",
      "6.750\t3\t2.00\tPiano\t69\n",
      "Debug: type(beat) = <class 'fractions.Fraction'>, beat = 7/3\n",
      "7.125\t3\t2.33\tPiano\t69\n",
      "Debug: type(beat) = <class 'fractions.Fraction'>, beat = 8/3\n",
      "7.500\t3\t2.67\tPiano\t69\n",
      "Debug: type(beat) = <class 'float'>, beat = 1.0\n",
      "7.875\t10\t1.00\tPiano\tRest\n",
      "Debug: type(beat) = <class 'fractions.Fraction'>, beat = 4/3\n",
      "8.250\t10\t1.33\tPiano\t72\n",
      "Debug: type(beat) = <class 'fractions.Fraction'>, beat = 5/3\n",
      "8.625\t10\t1.67\tPiano\t77\n",
      "Debug: type(beat) = <class 'float'>, beat = 2.0\n",
      "9.000\t10\t2.00\tPiano\t76\n",
      "Debug: type(beat) = <class 'fractions.Fraction'>, beat = 7/3\n",
      "9.375\t10\t2.33\tPiano\t77\n",
      "Debug: type(beat) = <class 'fractions.Fraction'>, beat = 8/3\n",
      "9.750\t10\t2.67\tPiano\tRest\n",
      "Debug: type(beat) = <class 'float'>, beat = 1.0\n",
      "10.125\t11\t1.00\tPiano\t76\n",
      "Debug: type(beat) = <class 'float'>, beat = 1.5\n",
      "10.500\t11\t1.50\tPiano\t77\n",
      "Debug: type(beat) = <class 'float'>, beat = 2.0\n",
      "10.875\t11\t2.00\tPiano\t72\n",
      "Debug: type(beat) = <class 'float'>, beat = 2.5\n",
      "11.250\t11\t2.50\tPiano\t71\n",
      "Debug: type(beat) = <class 'float'>, beat = 1.0\n",
      "11.625\t12\t1.00\tPiano\t69\n",
      "Debug: type(beat) = <class 'fractions.Fraction'>, beat = 4/3\n",
      "12.000\t12\t1.33\tPiano\t76\n",
      "Debug: type(beat) = <class 'fractions.Fraction'>, beat = 5/3\n",
      "12.375\t12\t1.67\tPiano\t76\n",
      "Debug: type(beat) = <class 'float'>, beat = 2.0\n",
      "12.750\t12\t2.00\tPiano\t69\n",
      "Debug: type(beat) = <class 'fractions.Fraction'>, beat = 7/3\n",
      "13.125\t12\t2.33\tPiano\t69\n",
      "Debug: type(beat) = <class 'fractions.Fraction'>, beat = 8/3\n",
      "13.500\t12\t2.67\tPiano\t69\n"
     ]
    }
   ],
   "source": [
    "process_score(xmlfile)"
   ]
  },
  {
   "cell_type": "code",
   "execution_count": 36,
   "id": "248f49c9-64fd-44f4-bf47-ba504bf12b78",
   "metadata": {},
   "outputs": [
    {
     "name": "stdout",
     "output_type": "stream",
     "text": [
      "8.3.0\n"
     ]
    }
   ],
   "source": [
    "import music21\n",
    "print(music21.__version__)"
   ]
  },
  {
   "cell_type": "code",
   "execution_count": null,
   "id": "1cdcf8e9-ee0a-4e0a-a535-bfb97fc15b59",
   "metadata": {},
   "outputs": [],
   "source": []
  }
 ],
 "metadata": {
  "kernelspec": {
   "display_name": "Python 3 (ipykernel)",
   "language": "python",
   "name": "python3"
  },
  "language_info": {
   "codemirror_mode": {
    "name": "ipython",
    "version": 3
   },
   "file_extension": ".py",
   "mimetype": "text/x-python",
   "name": "python",
   "nbconvert_exporter": "python",
   "pygments_lexer": "ipython3",
   "version": "3.10.14"
  }
 },
 "nbformat": 4,
 "nbformat_minor": 5
}
